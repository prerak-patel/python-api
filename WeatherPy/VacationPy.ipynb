{
 "cells": [
  {
   "cell_type": "markdown",
   "metadata": {},
   "source": [
    "# VacationPy"
   ]
  },
  {
   "cell_type": "code",
   "execution_count": 1,
   "metadata": {},
   "outputs": [],
   "source": [
    "# Dependencies and Setup\n",
    "import matplotlib.pyplot as plt\n",
    "import pandas as pd\n",
    "import numpy as np\n",
    "import requests\n",
    "import gmaps\n",
    "import os\n",
    "\n",
    "# Import API key\n",
    "from api_keys import g_key\n"
   ]
  },
  {
   "cell_type": "markdown",
   "metadata": {},
   "source": [
    "### Store Part I results into DataFrame\n",
    "* Load the csv exported in Part I to a DataFrame"
   ]
  },
  {
   "cell_type": "code",
   "execution_count": 2,
   "metadata": {},
   "outputs": [
    {
     "data": {
      "text/plain": [
       "561"
      ]
     },
     "execution_count": 2,
     "metadata": {},
     "output_type": "execute_result"
    }
   ],
   "source": [
    "city_data_df = pd.read_csv('../output_data/citydata.csv')\n",
    "city_data_df.head()\n",
    "len(city_data_df)                           "
   ]
  },
  {
   "cell_type": "markdown",
   "metadata": {},
   "source": [
    "### Humidity Heatmap\n",
    "* Configure gmaps.\n",
    "* Use the Lat and Lng as locations and Humidity as the weight.\n",
    "* Add Heatmap layer to map."
   ]
  },
  {
   "cell_type": "code",
   "execution_count": 3,
   "metadata": {},
   "outputs": [],
   "source": [
    "# Configure gmaps.\n",
    "gmaps.configure(api_key=g_key)\n",
    "\n",
    "# Extract latitude and longitude\n",
    "lat = city_data_df[\"Lat\"].fillna(0)\n",
    "lng = city_data_df[\"Lng\"].fillna(0)\n",
    "\n",
    "# Concatinate latitude and longitude and add it to a list\n",
    "coordinates = list(zip(lat,lng))\n",
    "\n",
    "figure_layout = {\n",
    "    'width': '800px',\n",
    "    'height': '400px',\n",
    "    'border': '1px solid black',\n",
    "    'padding': '1px',\n",
    "    'margin':'0 auto 0 auto'\n",
    "    \n",
    "}\n",
    "\n",
    "fig = gmaps.figure(layout=figure_layout)"
   ]
  },
  {
   "cell_type": "code",
   "execution_count": 4,
   "metadata": {},
   "outputs": [
    {
     "data": {
      "application/vnd.jupyter.widget-view+json": {
       "model_id": "55bfc87e736245a9bce5ea0c019942bb",
       "version_major": 2,
       "version_minor": 0
      },
      "text/plain": [
       "Figure(layout=FigureLayout(border='1px solid black', height='400px', margin='0 auto 0 auto', padding='1px', wi…"
      ]
     },
     "metadata": {},
     "output_type": "display_data"
    }
   ],
   "source": [
    "# Plot Heatmap layer with weight as Humidity  - Cities with higher humidity will be rendered with greater intensity\n",
    "markers = gmaps.heatmap_layer(coordinates,weights = city_data_df['Humidity'])\n",
    "fig.add_layer(markers)\n",
    "fig"
   ]
  },
  {
   "cell_type": "markdown",
   "metadata": {},
   "source": [
    "### Create new DataFrame fitting weather criteria\n",
    "* Narrow down the cities to fit weather conditions.\n",
    "* Drop any rows will null values."
   ]
  },
  {
   "cell_type": "code",
   "execution_count": 5,
   "metadata": {},
   "outputs": [
    {
     "data": {
      "text/plain": [
       "6"
      ]
     },
     "execution_count": 5,
     "metadata": {},
     "output_type": "execute_result"
    }
   ],
   "source": [
    "# Narrow down records that match criteria:\n",
    "    # Cloudiness = 0, Max Temp  > 70 but < 90 and Wind Speed <= 10\n",
    "condition = city_data_df[(city_data_df['Cloudiness'] > 0) | ((city_data_df['Max Temp'] <= 70) | (city_data_df['Max Temp'] >= 90)) | (city_data_df['Wind Speed'] > 10)]\n",
    "narrowed_city_df = city_data_df.drop(condition.index, axis = 0, inplace= False)\n",
    "len(narrowed_city_df)\n"
   ]
  },
  {
   "cell_type": "markdown",
   "metadata": {},
   "source": [
    "### Hotel Map\n",
    "* Store into variable named `hotel_df`.\n",
    "* Add a \"Hotel Name\" column to the DataFrame.\n",
    "* Set parameters to search for hotels with 5000 meters.\n",
    "* Hit the Google Places API for each city's coordinates.\n",
    "* Store the first Hotel result into the DataFrame.\n",
    "* Plot markers on top of the heatmap."
   ]
  },
  {
   "cell_type": "code",
   "execution_count": 6,
   "metadata": {},
   "outputs": [
    {
     "data": {
      "text/html": [
       "<div>\n",
       "<style scoped>\n",
       "    .dataframe tbody tr th:only-of-type {\n",
       "        vertical-align: middle;\n",
       "    }\n",
       "\n",
       "    .dataframe tbody tr th {\n",
       "        vertical-align: top;\n",
       "    }\n",
       "\n",
       "    .dataframe thead th {\n",
       "        text-align: right;\n",
       "    }\n",
       "</style>\n",
       "<table border=\"1\" class=\"dataframe\">\n",
       "  <thead>\n",
       "    <tr style=\"text-align: right;\">\n",
       "      <th></th>\n",
       "      <th>City</th>\n",
       "      <th>Cloudiness</th>\n",
       "      <th>Country</th>\n",
       "      <th>Date</th>\n",
       "      <th>Humidity</th>\n",
       "      <th>Lat</th>\n",
       "      <th>Lng</th>\n",
       "      <th>Max Temp</th>\n",
       "      <th>Wind Speed</th>\n",
       "      <th>Hotel Name</th>\n",
       "    </tr>\n",
       "  </thead>\n",
       "  <tbody>\n",
       "    <tr>\n",
       "      <th>54</th>\n",
       "      <td>Guararapes</td>\n",
       "      <td>0</td>\n",
       "      <td>BR</td>\n",
       "      <td>1584337050</td>\n",
       "      <td>89</td>\n",
       "      <td>-21.26</td>\n",
       "      <td>-50.64</td>\n",
       "      <td>72.10</td>\n",
       "      <td>3.89</td>\n",
       "      <td></td>\n",
       "    </tr>\n",
       "    <tr>\n",
       "      <th>281</th>\n",
       "      <td>Fare</td>\n",
       "      <td>0</td>\n",
       "      <td>PF</td>\n",
       "      <td>1584337078</td>\n",
       "      <td>73</td>\n",
       "      <td>-16.70</td>\n",
       "      <td>-151.02</td>\n",
       "      <td>83.08</td>\n",
       "      <td>9.62</td>\n",
       "      <td></td>\n",
       "    </tr>\n",
       "    <tr>\n",
       "      <th>417</th>\n",
       "      <td>Traralgon</td>\n",
       "      <td>0</td>\n",
       "      <td>AU</td>\n",
       "      <td>1584337097</td>\n",
       "      <td>56</td>\n",
       "      <td>-38.18</td>\n",
       "      <td>146.53</td>\n",
       "      <td>75.00</td>\n",
       "      <td>5.99</td>\n",
       "      <td></td>\n",
       "    </tr>\n",
       "    <tr>\n",
       "      <th>437</th>\n",
       "      <td>Karibib</td>\n",
       "      <td>0</td>\n",
       "      <td>NaN</td>\n",
       "      <td>1584337099</td>\n",
       "      <td>42</td>\n",
       "      <td>-21.93</td>\n",
       "      <td>15.83</td>\n",
       "      <td>73.69</td>\n",
       "      <td>4.32</td>\n",
       "      <td></td>\n",
       "    </tr>\n",
       "    <tr>\n",
       "      <th>444</th>\n",
       "      <td>Bahía Honda</td>\n",
       "      <td>0</td>\n",
       "      <td>CU</td>\n",
       "      <td>1584337100</td>\n",
       "      <td>84</td>\n",
       "      <td>22.90</td>\n",
       "      <td>-83.16</td>\n",
       "      <td>70.92</td>\n",
       "      <td>9.28</td>\n",
       "      <td></td>\n",
       "    </tr>\n",
       "  </tbody>\n",
       "</table>\n",
       "</div>"
      ],
      "text/plain": [
       "            City  Cloudiness Country        Date  Humidity    Lat     Lng  \\\n",
       "54    Guararapes           0      BR  1584337050        89 -21.26  -50.64   \n",
       "281         Fare           0      PF  1584337078        73 -16.70 -151.02   \n",
       "417    Traralgon           0      AU  1584337097        56 -38.18  146.53   \n",
       "437      Karibib           0     NaN  1584337099        42 -21.93   15.83   \n",
       "444  Bahía Honda           0      CU  1584337100        84  22.90  -83.16   \n",
       "\n",
       "     Max Temp  Wind Speed Hotel Name  \n",
       "54      72.10        3.89             \n",
       "281     83.08        9.62             \n",
       "417     75.00        5.99             \n",
       "437     73.69        4.32             \n",
       "444     70.92        9.28             "
      ]
     },
     "execution_count": 6,
     "metadata": {},
     "output_type": "execute_result"
    }
   ],
   "source": [
    "hotel_df = narrowed_city_df.copy()\n",
    "\n",
    "# Adding empty column to the dataframe\n",
    "hotel_df[\"Hotel Name\"] = \"\"\n",
    "\n",
    "hotel_df.head()"
   ]
  },
  {
   "cell_type": "code",
   "execution_count": 7,
   "metadata": {},
   "outputs": [],
   "source": [
    "base_url = \"https://maps.googleapis.com/maps/api/place/nearbysearch/json\"\n",
    "                   \n",
    "params = {\n",
    "    \"location\": \"\",\n",
    "    \"radius\": 5000,\n",
    "    \"type\": \"hotel\",\n",
    "    \"key\": g_key\n",
    "}\n",
    "\n",
    "#Using Google Places API to find the first hotel for each city located within 5000 meters of coordinates\n",
    "\n",
    "for index, row in hotel_df.iterrows():\n",
    "    params[\"location\"] = str(row['Lat']) + \",\" + str(row['Lng'])\n",
    "    response = requests.get(base_url, params=params).json()\n",
    "    results = response['results']\n",
    "    hotel_df.loc[index,'Hotel Name'] = results[0]['name']"
   ]
  },
  {
   "cell_type": "code",
   "execution_count": 8,
   "metadata": {},
   "outputs": [
    {
     "data": {
      "text/html": [
       "<div>\n",
       "<style scoped>\n",
       "    .dataframe tbody tr th:only-of-type {\n",
       "        vertical-align: middle;\n",
       "    }\n",
       "\n",
       "    .dataframe tbody tr th {\n",
       "        vertical-align: top;\n",
       "    }\n",
       "\n",
       "    .dataframe thead th {\n",
       "        text-align: right;\n",
       "    }\n",
       "</style>\n",
       "<table border=\"1\" class=\"dataframe\">\n",
       "  <thead>\n",
       "    <tr style=\"text-align: right;\">\n",
       "      <th></th>\n",
       "      <th>City</th>\n",
       "      <th>Cloudiness</th>\n",
       "      <th>Country</th>\n",
       "      <th>Date</th>\n",
       "      <th>Humidity</th>\n",
       "      <th>Lat</th>\n",
       "      <th>Lng</th>\n",
       "      <th>Max Temp</th>\n",
       "      <th>Wind Speed</th>\n",
       "      <th>Hotel Name</th>\n",
       "    </tr>\n",
       "  </thead>\n",
       "  <tbody>\n",
       "    <tr>\n",
       "      <th>54</th>\n",
       "      <td>Guararapes</td>\n",
       "      <td>0</td>\n",
       "      <td>BR</td>\n",
       "      <td>1584337050</td>\n",
       "      <td>89</td>\n",
       "      <td>-21.26</td>\n",
       "      <td>-50.64</td>\n",
       "      <td>72.10</td>\n",
       "      <td>3.89</td>\n",
       "      <td>Guararapes</td>\n",
       "    </tr>\n",
       "    <tr>\n",
       "      <th>281</th>\n",
       "      <td>Fare</td>\n",
       "      <td>0</td>\n",
       "      <td>PF</td>\n",
       "      <td>1584337078</td>\n",
       "      <td>73</td>\n",
       "      <td>-16.70</td>\n",
       "      <td>-151.02</td>\n",
       "      <td>83.08</td>\n",
       "      <td>9.62</td>\n",
       "      <td>Fare</td>\n",
       "    </tr>\n",
       "    <tr>\n",
       "      <th>417</th>\n",
       "      <td>Traralgon</td>\n",
       "      <td>0</td>\n",
       "      <td>AU</td>\n",
       "      <td>1584337097</td>\n",
       "      <td>56</td>\n",
       "      <td>-38.18</td>\n",
       "      <td>146.53</td>\n",
       "      <td>75.00</td>\n",
       "      <td>5.99</td>\n",
       "      <td>Traralgon</td>\n",
       "    </tr>\n",
       "    <tr>\n",
       "      <th>437</th>\n",
       "      <td>Karibib</td>\n",
       "      <td>0</td>\n",
       "      <td>NaN</td>\n",
       "      <td>1584337099</td>\n",
       "      <td>42</td>\n",
       "      <td>-21.93</td>\n",
       "      <td>15.83</td>\n",
       "      <td>73.69</td>\n",
       "      <td>4.32</td>\n",
       "      <td>Karibib</td>\n",
       "    </tr>\n",
       "    <tr>\n",
       "      <th>444</th>\n",
       "      <td>Bahía Honda</td>\n",
       "      <td>0</td>\n",
       "      <td>CU</td>\n",
       "      <td>1584337100</td>\n",
       "      <td>84</td>\n",
       "      <td>22.90</td>\n",
       "      <td>-83.16</td>\n",
       "      <td>70.92</td>\n",
       "      <td>9.28</td>\n",
       "      <td>Harlem</td>\n",
       "    </tr>\n",
       "  </tbody>\n",
       "</table>\n",
       "</div>"
      ],
      "text/plain": [
       "            City  Cloudiness Country        Date  Humidity    Lat     Lng  \\\n",
       "54    Guararapes           0      BR  1584337050        89 -21.26  -50.64   \n",
       "281         Fare           0      PF  1584337078        73 -16.70 -151.02   \n",
       "417    Traralgon           0      AU  1584337097        56 -38.18  146.53   \n",
       "437      Karibib           0     NaN  1584337099        42 -21.93   15.83   \n",
       "444  Bahía Honda           0      CU  1584337100        84  22.90  -83.16   \n",
       "\n",
       "     Max Temp  Wind Speed  Hotel Name  \n",
       "54      72.10        3.89  Guararapes  \n",
       "281     83.08        9.62        Fare  \n",
       "417     75.00        5.99   Traralgon  \n",
       "437     73.69        4.32     Karibib  \n",
       "444     70.92        9.28      Harlem  "
      ]
     },
     "execution_count": 8,
     "metadata": {},
     "output_type": "execute_result"
    }
   ],
   "source": [
    "hotel_df.head()"
   ]
  },
  {
   "cell_type": "code",
   "execution_count": 9,
   "metadata": {},
   "outputs": [],
   "source": [
    "# NOTE: Do not change any of the code in this cell\n",
    "\n",
    "# Using the template add the hotel marks to the heatmap\n",
    "info_box_template = \"\"\"\n",
    "<dl>\n",
    "<dt>Name</dt><dd>{Hotel Name}</dd>\n",
    "<dt>City</dt><dd>{City}</dd>\n",
    "<dt>Country</dt><dd>{Country}</dd>\n",
    "</dl>\n",
    "\"\"\"\n",
    "# Store the DataFrame Row\n",
    "# NOTE: be sure to update with your DataFrame name\n",
    "hotel_info = [info_box_template.format(**row) for index, row in hotel_df.iterrows()]\n",
    "locations = hotel_df[[\"Lat\", \"Lng\"]]"
   ]
  },
  {
   "cell_type": "code",
   "execution_count": 10,
   "metadata": {},
   "outputs": [
    {
     "data": {
      "application/vnd.jupyter.widget-view+json": {
       "model_id": "a22ffb2e474849138c48096306a01d80",
       "version_major": 2,
       "version_minor": 0
      },
      "text/plain": [
       "Figure(layout=FigureLayout(height='420px'))"
      ]
     },
     "metadata": {},
     "output_type": "display_data"
    }
   ],
   "source": [
    "\n",
    "heatmap_layer = gmaps.heatmap_layer(list(zip(locations['Lat'],locations['Lng'])))\n",
    "popup_layer = gmaps.marker_layer(locations, info_box_content=hotel_info)\n",
    "\n",
    "fig = gmaps.figure()\n",
    "\n",
    "# Adding heatmap layer to the base layer\n",
    "fig.add_layer(heatmap_layer)\n",
    "\n",
    "# Add marker layer on top of heat map\n",
    "fig.add_layer(popup_layer)\n",
    "fig\n"
   ]
  },
  {
   "cell_type": "code",
   "execution_count": null,
   "metadata": {},
   "outputs": [],
   "source": []
  }
 ],
 "metadata": {
  "kernelspec": {
   "display_name": "Python 3",
   "language": "python",
   "name": "python3"
  },
  "language_info": {
   "codemirror_mode": {
    "name": "ipython",
    "version": 3
   },
   "file_extension": ".py",
   "mimetype": "text/x-python",
   "name": "python",
   "nbconvert_exporter": "python",
   "pygments_lexer": "ipython3",
   "version": "3.7.4"
  },
  "latex_envs": {
   "LaTeX_envs_menu_present": true,
   "autoclose": false,
   "autocomplete": true,
   "bibliofile": "biblio.bib",
   "cite_by": "apalike",
   "current_citInitial": 1,
   "eqLabelWithNumbers": true,
   "eqNumInitial": 1,
   "hotkeys": {
    "equation": "Ctrl-E",
    "itemize": "Ctrl-I"
   },
   "labels_anchors": false,
   "latex_user_defs": false,
   "report_style_numbering": false,
   "user_envs_cfg": false
  }
 },
 "nbformat": 4,
 "nbformat_minor": 2
}
